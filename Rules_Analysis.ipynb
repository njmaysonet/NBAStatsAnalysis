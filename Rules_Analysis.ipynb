{
 "cells": [
  {
   "cell_type": "code",
   "execution_count": 139,
   "source": [
    "import pandas as pd\r\n",
    "import numpy as np\r\n",
    "import matplotlib.pyplot as plt\r\n",
    "import seaborn as sns\r\n",
    "\r\n",
    "injuries = pd.read_csv('./data/injuries_2010-2020.csv')\r\n",
    "injuries = injuries.drop('Acquired',axis=1)\r\n",
    "injuries.head(5)\r\n",
    "\r\n",
    "injuries['year'] = pd.DatetimeIndex(injuries['Date']).year\r\n",
    "injuries\r\n"
   ],
   "outputs": [
    {
     "output_type": "execute_result",
     "data": {
      "text/html": [
       "<div>\n",
       "<style scoped>\n",
       "    .dataframe tbody tr th:only-of-type {\n",
       "        vertical-align: middle;\n",
       "    }\n",
       "\n",
       "    .dataframe tbody tr th {\n",
       "        vertical-align: top;\n",
       "    }\n",
       "\n",
       "    .dataframe thead th {\n",
       "        text-align: right;\n",
       "    }\n",
       "</style>\n",
       "<table border=\"1\" class=\"dataframe\">\n",
       "  <thead>\n",
       "    <tr style=\"text-align: right;\">\n",
       "      <th></th>\n",
       "      <th>Date</th>\n",
       "      <th>Team</th>\n",
       "      <th>Relinquished</th>\n",
       "      <th>Notes</th>\n",
       "      <th>year</th>\n",
       "    </tr>\n",
       "  </thead>\n",
       "  <tbody>\n",
       "    <tr>\n",
       "      <th>0</th>\n",
       "      <td>2010-10-03</td>\n",
       "      <td>Bulls</td>\n",
       "      <td>Carlos Boozer</td>\n",
       "      <td>fractured bone in right pinky finger (out inde...</td>\n",
       "      <td>2010</td>\n",
       "    </tr>\n",
       "    <tr>\n",
       "      <th>1</th>\n",
       "      <td>2010-10-06</td>\n",
       "      <td>Pistons</td>\n",
       "      <td>Jonas Jerebko</td>\n",
       "      <td>torn right Achilles tendon (out indefinitely)</td>\n",
       "      <td>2010</td>\n",
       "    </tr>\n",
       "    <tr>\n",
       "      <th>2</th>\n",
       "      <td>2010-10-06</td>\n",
       "      <td>Pistons</td>\n",
       "      <td>Terrico White</td>\n",
       "      <td>broken fifth metatarsal in right foot (out ind...</td>\n",
       "      <td>2010</td>\n",
       "    </tr>\n",
       "    <tr>\n",
       "      <th>3</th>\n",
       "      <td>2010-10-08</td>\n",
       "      <td>Blazers</td>\n",
       "      <td>Jeff Ayres</td>\n",
       "      <td>torn ACL in right knee (out indefinitely)</td>\n",
       "      <td>2010</td>\n",
       "    </tr>\n",
       "    <tr>\n",
       "      <th>4</th>\n",
       "      <td>2010-10-08</td>\n",
       "      <td>Nets</td>\n",
       "      <td>Troy Murphy</td>\n",
       "      <td>strained lower back (out indefinitely)</td>\n",
       "      <td>2010</td>\n",
       "    </tr>\n",
       "    <tr>\n",
       "      <th>...</th>\n",
       "      <td>...</td>\n",
       "      <td>...</td>\n",
       "      <td>...</td>\n",
       "      <td>...</td>\n",
       "      <td>...</td>\n",
       "    </tr>\n",
       "    <tr>\n",
       "      <th>27100</th>\n",
       "      <td>2020-09-30</td>\n",
       "      <td>Lakers</td>\n",
       "      <td>NaN</td>\n",
       "      <td>activated from IL</td>\n",
       "      <td>2020</td>\n",
       "    </tr>\n",
       "    <tr>\n",
       "      <th>27101</th>\n",
       "      <td>2020-10-02</td>\n",
       "      <td>Heat</td>\n",
       "      <td>Bam Adebayo</td>\n",
       "      <td>strained neck (DTD)</td>\n",
       "      <td>2020</td>\n",
       "    </tr>\n",
       "    <tr>\n",
       "      <th>27102</th>\n",
       "      <td>2020-10-02</td>\n",
       "      <td>Heat</td>\n",
       "      <td>Goran Dragic</td>\n",
       "      <td>placed on IL with torn plantar fascia in left ...</td>\n",
       "      <td>2020</td>\n",
       "    </tr>\n",
       "    <tr>\n",
       "      <th>27103</th>\n",
       "      <td>2020-10-02</td>\n",
       "      <td>Heat</td>\n",
       "      <td>NaN</td>\n",
       "      <td>activated from IL</td>\n",
       "      <td>2020</td>\n",
       "    </tr>\n",
       "    <tr>\n",
       "      <th>27104</th>\n",
       "      <td>2020-10-06</td>\n",
       "      <td>Heat</td>\n",
       "      <td>NaN</td>\n",
       "      <td>returned to lineup</td>\n",
       "      <td>2020</td>\n",
       "    </tr>\n",
       "  </tbody>\n",
       "</table>\n",
       "<p>27105 rows × 5 columns</p>\n",
       "</div>"
      ],
      "text/plain": [
       "             Date     Team   Relinquished  \\\n",
       "0      2010-10-03    Bulls  Carlos Boozer   \n",
       "1      2010-10-06  Pistons  Jonas Jerebko   \n",
       "2      2010-10-06  Pistons  Terrico White   \n",
       "3      2010-10-08  Blazers     Jeff Ayres   \n",
       "4      2010-10-08     Nets    Troy Murphy   \n",
       "...           ...      ...            ...   \n",
       "27100  2020-09-30   Lakers            NaN   \n",
       "27101  2020-10-02     Heat    Bam Adebayo   \n",
       "27102  2020-10-02     Heat   Goran Dragic   \n",
       "27103  2020-10-02     Heat            NaN   \n",
       "27104  2020-10-06     Heat            NaN   \n",
       "\n",
       "                                                   Notes  year  \n",
       "0      fractured bone in right pinky finger (out inde...  2010  \n",
       "1          torn right Achilles tendon (out indefinitely)  2010  \n",
       "2      broken fifth metatarsal in right foot (out ind...  2010  \n",
       "3              torn ACL in right knee (out indefinitely)  2010  \n",
       "4                 strained lower back (out indefinitely)  2010  \n",
       "...                                                  ...   ...  \n",
       "27100                                  activated from IL  2020  \n",
       "27101                                strained neck (DTD)  2020  \n",
       "27102  placed on IL with torn plantar fascia in left ...  2020  \n",
       "27103                                  activated from IL  2020  \n",
       "27104                                 returned to lineup  2020  \n",
       "\n",
       "[27105 rows x 5 columns]"
      ]
     },
     "metadata": {},
     "execution_count": 139
    }
   ],
   "metadata": {}
  },
  {
   "cell_type": "code",
   "execution_count": 140,
   "source": [
    "injuries.dtypes"
   ],
   "outputs": [
    {
     "output_type": "execute_result",
     "data": {
      "text/plain": [
       "Date            object\n",
       "Team            object\n",
       "Relinquished    object\n",
       "Notes           object\n",
       "year             int64\n",
       "dtype: object"
      ]
     },
     "metadata": {},
     "execution_count": 140
    }
   ],
   "metadata": {}
  },
  {
   "cell_type": "code",
   "execution_count": 141,
   "source": [
    "rules = pd.read_csv('./data/NBA Rules.csv',encoding='latin1')"
   ],
   "outputs": [],
   "metadata": {}
  },
  {
   "cell_type": "code",
   "execution_count": 142,
   "source": [
    "rules.head(5)"
   ],
   "outputs": [
    {
     "output_type": "execute_result",
     "data": {
      "text/html": [
       "<div>\n",
       "<style scoped>\n",
       "    .dataframe tbody tr th:only-of-type {\n",
       "        vertical-align: middle;\n",
       "    }\n",
       "\n",
       "    .dataframe tbody tr th {\n",
       "        vertical-align: top;\n",
       "    }\n",
       "\n",
       "    .dataframe thead th {\n",
       "        text-align: right;\n",
       "    }\n",
       "</style>\n",
       "<table border=\"1\" class=\"dataframe\">\n",
       "  <thead>\n",
       "    <tr style=\"text-align: right;\">\n",
       "      <th></th>\n",
       "      <th>Rule</th>\n",
       "      <th>Category</th>\n",
       "      <th>Season</th>\n",
       "      <th>Date</th>\n",
       "    </tr>\n",
       "  </thead>\n",
       "  <tbody>\n",
       "    <tr>\n",
       "      <th>0</th>\n",
       "      <td>Allowed replay during the last two minutes of ...</td>\n",
       "      <td>Clock</td>\n",
       "      <td>2010-2011</td>\n",
       "      <td>10/21/2010</td>\n",
       "    </tr>\n",
       "    <tr>\n",
       "      <th>1</th>\n",
       "      <td>During the last two minutes of regulation play...</td>\n",
       "      <td>Possession</td>\n",
       "      <td>2010-2011</td>\n",
       "      <td>10/21/2010</td>\n",
       "    </tr>\n",
       "    <tr>\n",
       "      <th>2</th>\n",
       "      <td>Replay at any point during the game, to determ...</td>\n",
       "      <td>Fouls</td>\n",
       "      <td>2010-2011</td>\n",
       "      <td>10/21/2010</td>\n",
       "    </tr>\n",
       "    <tr>\n",
       "      <th>3</th>\n",
       "      <td>Replay at any point during a game, to determin...</td>\n",
       "      <td>Fouls</td>\n",
       "      <td>2010-2011</td>\n",
       "      <td>10/21/2010</td>\n",
       "    </tr>\n",
       "    <tr>\n",
       "      <th>4</th>\n",
       "      <td>All 24-second shot clocks will display tenths ...</td>\n",
       "      <td>Clock</td>\n",
       "      <td>2011-2012</td>\n",
       "      <td>12/19/2011</td>\n",
       "    </tr>\n",
       "  </tbody>\n",
       "</table>\n",
       "</div>"
      ],
      "text/plain": [
       "                                                Rule    Category     Season  \\\n",
       "0  Allowed replay during the last two minutes of ...       Clock  2010-2011   \n",
       "1  During the last two minutes of regulation play...  Possession  2010-2011   \n",
       "2  Replay at any point during the game, to determ...       Fouls  2010-2011   \n",
       "3  Replay at any point during a game, to determin...       Fouls  2010-2011   \n",
       "4  All 24-second shot clocks will display tenths ...       Clock  2011-2012   \n",
       "\n",
       "         Date  \n",
       "0  10/21/2010  \n",
       "1  10/21/2010  \n",
       "2  10/21/2010  \n",
       "3  10/21/2010  \n",
       "4  12/19/2011  "
      ]
     },
     "metadata": {},
     "execution_count": 142
    }
   ],
   "metadata": {}
  },
  {
   "cell_type": "code",
   "execution_count": 143,
   "source": [
    "injuries['Date'] = pd.to_datetime(injuries.Date)"
   ],
   "outputs": [],
   "metadata": {}
  },
  {
   "cell_type": "code",
   "execution_count": 144,
   "source": [
    "rules.dtypes"
   ],
   "outputs": [
    {
     "output_type": "execute_result",
     "data": {
      "text/plain": [
       "Rule        object\n",
       "Category    object\n",
       "Season      object\n",
       "Date        object\n",
       "dtype: object"
      ]
     },
     "metadata": {},
     "execution_count": 144
    }
   ],
   "metadata": {}
  },
  {
   "cell_type": "code",
   "execution_count": 145,
   "source": [
    "rules['Date'] = pd.to_datetime(rules.Date)"
   ],
   "outputs": [],
   "metadata": {}
  },
  {
   "cell_type": "code",
   "execution_count": 146,
   "source": [
    "rules.head(5)"
   ],
   "outputs": [
    {
     "output_type": "execute_result",
     "data": {
      "text/html": [
       "<div>\n",
       "<style scoped>\n",
       "    .dataframe tbody tr th:only-of-type {\n",
       "        vertical-align: middle;\n",
       "    }\n",
       "\n",
       "    .dataframe tbody tr th {\n",
       "        vertical-align: top;\n",
       "    }\n",
       "\n",
       "    .dataframe thead th {\n",
       "        text-align: right;\n",
       "    }\n",
       "</style>\n",
       "<table border=\"1\" class=\"dataframe\">\n",
       "  <thead>\n",
       "    <tr style=\"text-align: right;\">\n",
       "      <th></th>\n",
       "      <th>Rule</th>\n",
       "      <th>Category</th>\n",
       "      <th>Season</th>\n",
       "      <th>Date</th>\n",
       "    </tr>\n",
       "  </thead>\n",
       "  <tbody>\n",
       "    <tr>\n",
       "      <th>0</th>\n",
       "      <td>Allowed replay during the last two minutes of ...</td>\n",
       "      <td>Clock</td>\n",
       "      <td>2010-2011</td>\n",
       "      <td>2010-10-21</td>\n",
       "    </tr>\n",
       "    <tr>\n",
       "      <th>1</th>\n",
       "      <td>During the last two minutes of regulation play...</td>\n",
       "      <td>Possession</td>\n",
       "      <td>2010-2011</td>\n",
       "      <td>2010-10-21</td>\n",
       "    </tr>\n",
       "    <tr>\n",
       "      <th>2</th>\n",
       "      <td>Replay at any point during the game, to determ...</td>\n",
       "      <td>Fouls</td>\n",
       "      <td>2010-2011</td>\n",
       "      <td>2010-10-21</td>\n",
       "    </tr>\n",
       "    <tr>\n",
       "      <th>3</th>\n",
       "      <td>Replay at any point during a game, to determin...</td>\n",
       "      <td>Fouls</td>\n",
       "      <td>2010-2011</td>\n",
       "      <td>2010-10-21</td>\n",
       "    </tr>\n",
       "    <tr>\n",
       "      <th>4</th>\n",
       "      <td>All 24-second shot clocks will display tenths ...</td>\n",
       "      <td>Clock</td>\n",
       "      <td>2011-2012</td>\n",
       "      <td>2011-12-19</td>\n",
       "    </tr>\n",
       "  </tbody>\n",
       "</table>\n",
       "</div>"
      ],
      "text/plain": [
       "                                                Rule    Category     Season  \\\n",
       "0  Allowed replay during the last two minutes of ...       Clock  2010-2011   \n",
       "1  During the last two minutes of regulation play...  Possession  2010-2011   \n",
       "2  Replay at any point during the game, to determ...       Fouls  2010-2011   \n",
       "3  Replay at any point during a game, to determin...       Fouls  2010-2011   \n",
       "4  All 24-second shot clocks will display tenths ...       Clock  2011-2012   \n",
       "\n",
       "        Date  \n",
       "0 2010-10-21  \n",
       "1 2010-10-21  \n",
       "2 2010-10-21  \n",
       "3 2010-10-21  \n",
       "4 2011-12-19  "
      ]
     },
     "metadata": {},
     "execution_count": 146
    }
   ],
   "metadata": {}
  },
  {
   "cell_type": "code",
   "execution_count": 147,
   "source": [
    "rules.dtypes"
   ],
   "outputs": [
    {
     "output_type": "execute_result",
     "data": {
      "text/plain": [
       "Rule                object\n",
       "Category            object\n",
       "Season              object\n",
       "Date        datetime64[ns]\n",
       "dtype: object"
      ]
     },
     "metadata": {},
     "execution_count": 147
    }
   ],
   "metadata": {}
  },
  {
   "cell_type": "code",
   "execution_count": 148,
   "source": [
    "yearly_injuries = injuries.set_index(['Date'])\r\n",
    "yearly_injuries = yearly_injuries['Notes'].resample('Y').agg([\"count\"])\r\n",
    "yearly_injuries.head()"
   ],
   "outputs": [
    {
     "output_type": "execute_result",
     "data": {
      "text/html": [
       "<div>\n",
       "<style scoped>\n",
       "    .dataframe tbody tr th:only-of-type {\n",
       "        vertical-align: middle;\n",
       "    }\n",
       "\n",
       "    .dataframe tbody tr th {\n",
       "        vertical-align: top;\n",
       "    }\n",
       "\n",
       "    .dataframe thead th {\n",
       "        text-align: right;\n",
       "    }\n",
       "</style>\n",
       "<table border=\"1\" class=\"dataframe\">\n",
       "  <thead>\n",
       "    <tr style=\"text-align: right;\">\n",
       "      <th></th>\n",
       "      <th>count</th>\n",
       "    </tr>\n",
       "    <tr>\n",
       "      <th>Date</th>\n",
       "      <th></th>\n",
       "    </tr>\n",
       "  </thead>\n",
       "  <tbody>\n",
       "    <tr>\n",
       "      <th>2010-12-31</th>\n",
       "      <td>971</td>\n",
       "    </tr>\n",
       "    <tr>\n",
       "      <th>2011-12-31</th>\n",
       "      <td>1758</td>\n",
       "    </tr>\n",
       "    <tr>\n",
       "      <th>2012-12-31</th>\n",
       "      <td>3133</td>\n",
       "    </tr>\n",
       "    <tr>\n",
       "      <th>2013-12-31</th>\n",
       "      <td>2673</td>\n",
       "    </tr>\n",
       "    <tr>\n",
       "      <th>2014-12-31</th>\n",
       "      <td>2836</td>\n",
       "    </tr>\n",
       "  </tbody>\n",
       "</table>\n",
       "</div>"
      ],
      "text/plain": [
       "            count\n",
       "Date             \n",
       "2010-12-31    971\n",
       "2011-12-31   1758\n",
       "2012-12-31   3133\n",
       "2013-12-31   2673\n",
       "2014-12-31   2836"
      ]
     },
     "metadata": {},
     "execution_count": 148
    }
   ],
   "metadata": {}
  },
  {
   "cell_type": "code",
   "execution_count": 149,
   "source": [
    "import matplotlib.pyplot as plt"
   ],
   "outputs": [],
   "metadata": {}
  },
  {
   "cell_type": "code",
   "execution_count": 150,
   "source": [
    "plt.figure(figsize=(16,10))\r\n",
    "chart = sns.lineplot(x=\"Date\",y=\"count\",data=yearly_injuries, label='Injuries')\r\n",
    "colors = ['Orange','Green','Red','Blue','Teal','Pink','Magenta','Cyan', 'Purple']\r\n",
    "chart.vlines(x= rules.Date, ymin=0, ymax=3600, color=colors, linestyle=':', label='Rule Changes',)\r\n",
    "plt.legend()\r\n",
    "plt.plot()\r\n",
    "plt.title('Injuries & Rule Changes')\r\n",
    "plt.show"
   ],
   "outputs": [
    {
     "output_type": "execute_result",
     "data": {
      "text/plain": [
       "<function matplotlib.pyplot.show(close=None, block=None)>"
      ]
     },
     "metadata": {},
     "execution_count": 150
    },
    {
     "output_type": "display_data",
     "data": {
      "image/png": "[encoded data removed]",
      "text/plain": [
       "<Figure size 1152x720 with 1 Axes>"
      ]
     },
     "metadata": {
      "needs_background": "light"
     }
    }
   ],
   "metadata": {}
  }
 ],
 "metadata": {
  "interpreter": {
   "hash": "0acca807dfef202fb363c3c85ce4c2e5fa6d8b3d556f87fb952136ec972d2119"
  },
  "kernelspec": {
   "name": "python3",
   "display_name": "Python 3.10.0 64-bit"
  },
  "language_info": {
   "codemirror_mode": {
    "name": "ipython",
    "version": 3
   },
   "file_extension": ".py",
   "mimetype": "text/x-python",
   "name": "python",
   "nbconvert_exporter": "python",
   "pygments_lexer": "ipython3",
   "version": "3.10.0"
  },
  "orig_nbformat": 4
 },
 "nbformat": 4,
 "nbformat_minor": 2
}